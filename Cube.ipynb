{
 "cells": [
  {
   "cell_type": "code",
   "execution_count": 202,
   "metadata": {
    "collapsed": false
   },
   "outputs": [],
   "source": [
    "# %load 'cube.py'\n",
    "import copy\n",
    "import numpy as np\n",
    "\n",
    "\n",
    "FRONT, BACK, DOWN, LEFT, RIGHT, UP = 0, 1, 2, 3, 4, 5\n",
    "\n",
    "# A dictionary with faces: for better understanding each face can be\n",
    "# considered a color in rubik's cube.\n",
    "FACES = {FRONT: 'F', BACK: 'B', DOWN: 'D', LEFT: 'L', RIGHT: 'R', UP: 'U'}\n",
    "\n",
    "\n",
    "class RubiksCube(object):\n",
    "    \"\"\"docstring for Cube\"\"\"\n",
    "\n",
    "    def __init__(self, cube=None):\n",
    "        if cube:\n",
    "            self.cube = cube\n",
    "        else:\n",
    "            self.cube = self.initial_state()\n",
    "\n",
    "    def initial_state(self):\n",
    "        \"\"\"\n",
    "        Returns a 'solved' cube, each cube's face correctly arranged.\n",
    "        The cube is represented as an array of faces, each face as an array \\\n",
    "        of rows and each row is an array with three values.\n",
    "\n",
    "        The solved cube looks like:\n",
    "        [\n",
    "        [['F1', 'F2', 'F3'], ['F4', 'F5', 'F6'], ['F7', 'F8', 'F9']],\n",
    "        [['B1', 'B2', 'B3'], ['B4', 'B5', 'B6'], ['B7', 'B8', 'B9']],\n",
    "        ...\n",
    "        [['U1', 'U2', 'U3'], ['U4', 'U5', 'U6'], ['U7', 'U8', 'U9']]\n",
    "        ]\n",
    "        \"\"\"\n",
    "        #  For each value in the dict 'FACES' ('F', 'B'... 'U'),\n",
    "        # calls _generate_face passing the value as argument\n",
    "        return [self._generate_face(value) for value in FACES.itervalues()]\n",
    "\n",
    "    def _generate_face(self, face):\n",
    "        \"\"\"\n",
    "        Generates a cube's face correctly arranged.\n",
    "        An face is represented as a 3x3 matrix (array of arrays), each value \\\n",
    "        in the matrix representes a cubelet's face in the cube's face.\n",
    "\n",
    "        A matrix for face 'a':\n",
    "        [['a1', 'a2', 'a3'],\n",
    "         ['a4', 'a5', 'a6'],\n",
    "         ['a7', 'a8', 'a9']]\n",
    "        \"\"\"\n",
    "        matrix = []\n",
    "        for i in range(3):\n",
    "            matrix.append([\"%s%d\" % (face, x+(3*i)) for x in range(1, 4)])\n",
    "        return matrix\n",
    "\n",
    "\n",
    "def move_rubiks_cube(rubiks_cube, face):\n",
    "    \"\"\"\n",
    "    Returns a new RubiksCube with the face rotated.\n",
    "    Input face can be a value between 0 and 11 (all possible movements)\n",
    "    \"\"\"\n",
    "    cube = None\n",
    "    if face <= 5:\n",
    "        cube = _move_cubes_face(rubiks_cube.cube, face, True)\n",
    "    else:\n",
    "        _face = face - 6\n",
    "        cube = _move_cubes_face(rubiks_cube.cube, _face, False)\n",
    "    return RubiksCube(cube)\n",
    "\n",
    "\n",
    "def _move_cubes_face(cube, face, clockwise):\n",
    "    \"\"\"\n",
    "    Returns a cube with the face rotated.\n",
    "    \"\"\"\n",
    "    if clockwise:\n",
    "        return _rotate_clockwise(cube, face)\n",
    "    else:\n",
    "        return _rotate_counter_clockwise(cube, face)\n",
    "\n",
    "\n",
    "def _rotate_clockwise(cube_state, face):\n",
    "    \"\"\"\n",
    "    Applies one clockwise movement over a cube's face.\n",
    "    \"\"\"\n",
    "    cube = copy.deepcopy(cube_state)\n",
    "\n",
    "    if face is UP:\n",
    "        cube[UP] = _rotate_clockwise_matrix(cube[UP])\n",
    "        cube[FRONT][0], cube[RIGHT][0], cube[BACK][0], cube[LEFT][0] = cube_state[LEFT][0], cube_state[FRONT][0], cube_state[RIGHT][0], cube_state[BACK][0]\n",
    "\n",
    "    elif face is DOWN:\n",
    "        cube[DOWN] = _rotate_clockwise_matrix(cube[DOWN])\n",
    "        cube[FRONT][2], cube[RIGHT][2], cube[BACK][2], cube[LEFT][2] = cube_state[LEFT][2], cube_state[FRONT][2], cube_state[RIGHT][2], cube_state[BACK][2]\n",
    "\n",
    "    elif face is FRONT:\n",
    "        cube[FRONT] = _rotate_clockwise_matrix(cube[FRONT])\n",
    "        cube[UP][2] = [cube_state[LEFT][2][2], cube_state[LEFT][1][2], cube_state[LEFT][0][2]]\n",
    "        cube[LEFT][0][2], cube[LEFT][1][2], cube[LEFT][2][2] = cube_state[DOWN][0][0], cube_state[DOWN][0][1], cube_state[DOWN][0][2]\n",
    "        cube[DOWN][0] = [cube_state[RIGHT][2][0], cube_state[RIGHT][1][0], cube_state[RIGHT][0][0]]\n",
    "        cube[RIGHT][0][0], cube[RIGHT][1][0], cube[RIGHT][2][0] = cube_state[UP][2][0], cube_state[UP][2][1], cube_state[UP][2][2]\n",
    "\n",
    "    elif face is BACK:\n",
    "        cube[BACK] = _rotate_clockwise_matrix(cube[BACK])\n",
    "        cube[DOWN][2] = [cube_state[LEFT][0][0], cube_state[LEFT][1][0], cube_state[LEFT][2][0]]\n",
    "        cube[RIGHT][0][2], cube[RIGHT][1][2], cube[RIGHT][2][2] = cube_state[DOWN][2][2], cube_state[DOWN][2][1], cube_state[DOWN][2][0]\n",
    "        cube[UP][0] = [cube_state[RIGHT][0][2], cube_state[RIGHT][1][2], cube_state[RIGHT][2][2]]\n",
    "        cube[LEFT][0][0], cube[LEFT][1][0], cube[LEFT][2][0] = cube_state[UP][0][2], cube_state[UP][0][1], cube_state[UP][0][0]\n",
    "\n",
    "    elif face is RIGHT:\n",
    "        cube[RIGHT] = _rotate_clockwise_matrix(cube[RIGHT])\n",
    "        cube[BACK][0][0], cube[BACK][1][0], cube[BACK][2][0] = cube_state[UP][2][2], cube_state[UP][1][2], cube_state[UP][0][2]\n",
    "        cube[DOWN][0][2], cube[DOWN][1][2], cube[DOWN][2][2] = [cube_state[BACK][2][0], cube_state[BACK][1][0], cube_state[BACK][0][0]]\n",
    "        cube[UP][0][2], cube[UP][1][2], cube[UP][2][2] = [cube_state[FRONT][0][2], cube_state[FRONT][1][2], cube_state[FRONT][2][2]]\n",
    "        cube[FRONT][0][2], cube[FRONT][1][2], cube[FRONT][2][2] = [cube_state[DOWN][0][2], cube_state[DOWN][1][2], cube_state[DOWN][2][2]]\n",
    "\n",
    "    elif face is LEFT:\n",
    "        cube[LEFT] = _rotate_clockwise_matrix(cube[LEFT])\n",
    "        cube[BACK][0][2], cube[BACK][1][2], cube[BACK][2][2] = cube_state[DOWN][2][0], cube_state[DOWN][1][0], cube_state[DOWN][0][0]\n",
    "        cube[DOWN][0][0], cube[DOWN][1][0], cube[DOWN][2][0] = [cube_state[FRONT][0][0], cube_state[FRONT][1][0], cube_state[FRONT][2][0]]\n",
    "        cube[UP][0][0], cube[UP][1][0], cube[UP][2][0] = [cube_state[BACK][2][2], cube_state[BACK][1][2], cube_state[BACK][0][2]]\n",
    "        cube[FRONT][0][0], cube[FRONT][1][0], cube[FRONT][2][0] = [cube_state[UP][0][0], cube_state[UP][1][0], cube_state[UP][2][0]]\n",
    "\n",
    "    return cube\n",
    "\n",
    "\n",
    "def _rotate_clockwise_matrix(matrix):\n",
    "    \"\"\"\n",
    "    Rotates the matrix by 90 degrees\n",
    "    \"\"\"\n",
    "    # numpy.rot90() Rotate an array by 90 degrees in the counter-clockwise\n",
    "    # direction.\n",
    "    return np.rot90(np.array(matrix), 3).tolist()\n",
    "\n",
    "\n",
    "def _rotate_counter_clockwise(cube_state, face):\n",
    "    \"\"\"\n",
    "    Rotates a face by 90 degrees in the counter-clockwise direction applying \\\n",
    "    _rotate_clockwise three times.\n",
    "    \"\"\"\n",
    "    cube = _rotate_clockwise(cube_state, face)\n",
    "    cube = _rotate_clockwise(cube, face)\n",
    "    return _rotate_clockwise(cube, face)\n"
   ]
  },
  {
   "cell_type": "code",
   "execution_count": 203,
   "metadata": {
    "collapsed": false
   },
   "outputs": [
    {
     "data": {
      "text/plain": [
       "[[['F1', 'F2', 'F3'], ['F4', 'F5', 'F6'], ['F7', 'F8', 'F9']],\n",
       " [['B1', 'B2', 'B3'], ['B4', 'B5', 'B6'], ['B7', 'B8', 'B9']],\n",
       " [['D1', 'D2', 'D3'], ['D4', 'D5', 'D6'], ['D7', 'D8', 'D9']],\n",
       " [['L1', 'L2', 'L3'], ['L4', 'L5', 'L6'], ['L7', 'L8', 'L9']],\n",
       " [['R1', 'R2', 'R3'], ['R4', 'R5', 'R6'], ['R7', 'R8', 'R9']],\n",
       " [['U1', 'U2', 'U3'], ['U4', 'U5', 'U6'], ['U7', 'U8', 'U9']]]"
      ]
     },
     "execution_count": 203,
     "metadata": {},
     "output_type": "execute_result"
    }
   ],
   "source": [
    "r_cube = RubiksCube()  # In a initial_state \n",
    "r_cube.cube"
   ]
  },
  {
   "cell_type": "code",
   "execution_count": 204,
   "metadata": {
    "collapsed": false
   },
   "outputs": [
    {
     "data": {
      "text/plain": [
       "[[['F7', 'F4', 'F1'], ['F8', 'F5', 'F2'], ['F9', 'F6', 'F3']],\n",
       " [['B1', 'B2', 'B3'], ['B4', 'B5', 'B6'], ['B7', 'B8', 'B9']],\n",
       " [['R7', 'R4', 'R1'], ['D4', 'D5', 'D6'], ['D7', 'D8', 'D9']],\n",
       " [['L1', 'L2', 'D1'], ['L4', 'L5', 'D2'], ['L7', 'L8', 'D3']],\n",
       " [['U7', 'R2', 'R3'], ['U8', 'R5', 'R6'], ['U9', 'R8', 'R9']],\n",
       " [['U1', 'U2', 'U3'], ['U4', 'U5', 'U6'], ['L9', 'L6', 'L3']]]"
      ]
     },
     "execution_count": 204,
     "metadata": {},
     "output_type": "execute_result"
    }
   ],
   "source": [
    "cube_f = move_rubiks_cube(r_cube, 0) # FRONT\n",
    "cube_f.cube"
   ]
  },
  {
   "cell_type": "code",
   "execution_count": 205,
   "metadata": {
    "collapsed": false
   },
   "outputs": [
    {
     "data": {
      "text/plain": [
       "[[['F1', 'F2', 'F3'], ['F4', 'F5', 'F6'], ['F7', 'F8', 'F9']],\n",
       " [['B1', 'B2', 'B3'], ['B4', 'B5', 'B6'], ['B7', 'B8', 'B9']],\n",
       " [['D1', 'D2', 'D3'], ['D4', 'D5', 'D6'], ['D7', 'D8', 'D9']],\n",
       " [['L1', 'L2', 'L3'], ['L4', 'L5', 'L6'], ['L7', 'L8', 'L9']],\n",
       " [['R1', 'R2', 'R3'], ['R4', 'R5', 'R6'], ['R7', 'R8', 'R9']],\n",
       " [['U1', 'U2', 'U3'], ['U4', 'U5', 'U6'], ['U7', 'U8', 'U9']]]"
      ]
     },
     "execution_count": 205,
     "metadata": {},
     "output_type": "execute_result"
    }
   ],
   "source": [
    "cube_1 = move_rubiks_cube(cube_f, 6).cube\n",
    "cube_1"
   ]
  },
  {
   "cell_type": "code",
   "execution_count": 179,
   "metadata": {
    "collapsed": false
   },
   "outputs": [],
   "source": [
    "def check_face_movement(face):\n",
    "    # Basically it checks if has duplicate values in array\n",
    "    initial_state = convert_in_vector(RubiksCube().cube)\n",
    "    cube_x = convert_in_vector(move_rubiks_cube(RubiksCube(), face).cube)\n",
    "    aux = 0\n",
    "    try:\n",
    "        for i in range(54):\n",
    "            aux = cube_x[i]\n",
    "            initial_state.remove(cube_x[i])\n",
    "    except Exception, e:\n",
    "        print \"duplicado \", aux\n",
    "        return False\n",
    "    return True\n",
    "\n",
    "def convert_in_vector(cube):\n",
    "    # Converts the cube in a array\n",
    "    values = []\n",
    "    for face in cube:\n",
    "        for row in face:\n",
    "            for value in row:\n",
    "                values.append(value)\n",
    "    return values"
   ]
  },
  {
   "cell_type": "code",
   "execution_count": 180,
   "metadata": {
    "collapsed": false
   },
   "outputs": [
    {
     "data": {
      "text/plain": [
       "[True, True, True, True, True, True, True, True, True, True, True]"
      ]
     },
     "execution_count": 180,
     "metadata": {},
     "output_type": "execute_result"
    }
   ],
   "source": [
    "[check_face_movement(i) for i in range(11)]"
   ]
  },
  {
   "cell_type": "code",
   "execution_count": 181,
   "metadata": {
    "collapsed": false
   },
   "outputs": [
    {
     "ename": "KeyboardInterrupt",
     "evalue": "",
     "output_type": "error",
     "traceback": [
      "\u001b[0;31m---------------------------------------------------------------------------\u001b[0m",
      "\u001b[0;31mKeyboardInterrupt\u001b[0m                         Traceback (most recent call last)",
      "\u001b[0;32m<ipython-input-181-b199f3acac4d>\u001b[0m in \u001b[0;36m<module>\u001b[0;34m()\u001b[0m\n\u001b[1;32m      1\u001b[0m \u001b[0;32mfor\u001b[0m \u001b[0mx\u001b[0m \u001b[0;32min\u001b[0m \u001b[0mrange\u001b[0m\u001b[0;34m(\u001b[0m\u001b[0;36m0\u001b[0m\u001b[0;34m,\u001b[0m \u001b[0mint\u001b[0m\u001b[0;34m(\u001b[0m\u001b[0mmath\u001b[0m\u001b[0;34m.\u001b[0m\u001b[0mpow\u001b[0m\u001b[0;34m(\u001b[0m\u001b[0;36m2\u001b[0m\u001b[0;34m,\u001b[0m\u001b[0;36m20\u001b[0m\u001b[0;34m)\u001b[0m\u001b[0;34m)\u001b[0m\u001b[0;34m)\u001b[0m\u001b[0;34m:\u001b[0m\u001b[0;34m\u001b[0m\u001b[0m\n\u001b[0;32m----> 2\u001b[0;31m     \u001b[0mr_cube\u001b[0m\u001b[0;34m.\u001b[0m\u001b[0mcube\u001b[0m \u001b[0;34m=\u001b[0m  \u001b[0mmove_rubiks_cube\u001b[0m\u001b[0;34m(\u001b[0m\u001b[0mr_cube\u001b[0m\u001b[0;34m,\u001b[0m \u001b[0mrandom\u001b[0m\u001b[0;34m.\u001b[0m\u001b[0mrandint\u001b[0m\u001b[0;34m(\u001b[0m\u001b[0;36m0\u001b[0m\u001b[0;34m,\u001b[0m\u001b[0;36m11\u001b[0m\u001b[0;34m)\u001b[0m\u001b[0;34m)\u001b[0m\u001b[0;34m.\u001b[0m\u001b[0mcube\u001b[0m\u001b[0;34m\u001b[0m\u001b[0m\n\u001b[0m\u001b[1;32m      3\u001b[0m \u001b[0mr_cube\u001b[0m\u001b[0;34m.\u001b[0m\u001b[0mcube\u001b[0m\u001b[0;34m\u001b[0m\u001b[0m\n",
      "\u001b[0;32m<ipython-input-175-aa06ad310606>\u001b[0m in \u001b[0;36mmove_rubiks_cube\u001b[0;34m(rubiks_cube, face)\u001b[0m\n\u001b[1;32m     62\u001b[0m     \u001b[0mcube\u001b[0m \u001b[0;34m=\u001b[0m \u001b[0mNone\u001b[0m\u001b[0;34m\u001b[0m\u001b[0m\n\u001b[1;32m     63\u001b[0m     \u001b[0;32mif\u001b[0m \u001b[0mface\u001b[0m \u001b[0;34m<=\u001b[0m \u001b[0;36m5\u001b[0m\u001b[0;34m:\u001b[0m\u001b[0;34m\u001b[0m\u001b[0m\n\u001b[0;32m---> 64\u001b[0;31m         \u001b[0mcube\u001b[0m \u001b[0;34m=\u001b[0m \u001b[0m_move_cubes_face\u001b[0m\u001b[0;34m(\u001b[0m\u001b[0mrubiks_cube\u001b[0m\u001b[0;34m.\u001b[0m\u001b[0mcube\u001b[0m\u001b[0;34m,\u001b[0m \u001b[0mface\u001b[0m\u001b[0;34m,\u001b[0m \u001b[0mTrue\u001b[0m\u001b[0;34m)\u001b[0m\u001b[0;34m\u001b[0m\u001b[0m\n\u001b[0m\u001b[1;32m     65\u001b[0m     \u001b[0;32melse\u001b[0m\u001b[0;34m:\u001b[0m\u001b[0;34m\u001b[0m\u001b[0m\n\u001b[1;32m     66\u001b[0m         \u001b[0m_face\u001b[0m \u001b[0;34m=\u001b[0m \u001b[0mface\u001b[0m \u001b[0;34m-\u001b[0m \u001b[0;36m6\u001b[0m\u001b[0;34m\u001b[0m\u001b[0m\n",
      "\u001b[0;32m<ipython-input-175-aa06ad310606>\u001b[0m in \u001b[0;36m_move_cubes_face\u001b[0;34m(cube, face, clockwise)\u001b[0m\n\u001b[1;32m     74\u001b[0m     \"\"\"\n\u001b[1;32m     75\u001b[0m     \u001b[0;32mif\u001b[0m \u001b[0mclockwise\u001b[0m\u001b[0;34m:\u001b[0m\u001b[0;34m\u001b[0m\u001b[0m\n\u001b[0;32m---> 76\u001b[0;31m         \u001b[0;32mreturn\u001b[0m \u001b[0m_rotate_clockwise\u001b[0m\u001b[0;34m(\u001b[0m\u001b[0mcube\u001b[0m\u001b[0;34m,\u001b[0m \u001b[0mface\u001b[0m\u001b[0;34m)\u001b[0m\u001b[0;34m\u001b[0m\u001b[0m\n\u001b[0m\u001b[1;32m     77\u001b[0m     \u001b[0;32melse\u001b[0m\u001b[0;34m:\u001b[0m\u001b[0;34m\u001b[0m\u001b[0m\n\u001b[1;32m     78\u001b[0m         \u001b[0;32mreturn\u001b[0m \u001b[0m_rotate_counter_clockwise\u001b[0m\u001b[0;34m(\u001b[0m\u001b[0mcube\u001b[0m\u001b[0;34m,\u001b[0m \u001b[0mface\u001b[0m\u001b[0;34m)\u001b[0m\u001b[0;34m\u001b[0m\u001b[0m\n",
      "\u001b[0;32m<ipython-input-175-aa06ad310606>\u001b[0m in \u001b[0;36m_rotate_clockwise\u001b[0;34m(cube_state, face)\u001b[0m\n\u001b[1;32m     86\u001b[0m \u001b[0;34m\u001b[0m\u001b[0m\n\u001b[1;32m     87\u001b[0m     \u001b[0;32mif\u001b[0m \u001b[0mface\u001b[0m \u001b[0;32mis\u001b[0m \u001b[0mUP\u001b[0m\u001b[0;34m:\u001b[0m\u001b[0;34m\u001b[0m\u001b[0m\n\u001b[0;32m---> 88\u001b[0;31m         \u001b[0mcube\u001b[0m\u001b[0;34m[\u001b[0m\u001b[0mUP\u001b[0m\u001b[0;34m]\u001b[0m \u001b[0;34m=\u001b[0m \u001b[0m_rotate_clockwise_matrix\u001b[0m\u001b[0;34m(\u001b[0m\u001b[0mcube\u001b[0m\u001b[0;34m[\u001b[0m\u001b[0mUP\u001b[0m\u001b[0;34m]\u001b[0m\u001b[0;34m)\u001b[0m\u001b[0;34m\u001b[0m\u001b[0m\n\u001b[0m\u001b[1;32m     89\u001b[0m         \u001b[0mcube\u001b[0m\u001b[0;34m[\u001b[0m\u001b[0mFRONT\u001b[0m\u001b[0;34m]\u001b[0m\u001b[0;34m[\u001b[0m\u001b[0;36m0\u001b[0m\u001b[0;34m]\u001b[0m\u001b[0;34m,\u001b[0m \u001b[0mcube\u001b[0m\u001b[0;34m[\u001b[0m\u001b[0mRIGHT\u001b[0m\u001b[0;34m]\u001b[0m\u001b[0;34m[\u001b[0m\u001b[0;36m0\u001b[0m\u001b[0;34m]\u001b[0m\u001b[0;34m,\u001b[0m \u001b[0mcube\u001b[0m\u001b[0;34m[\u001b[0m\u001b[0mBACK\u001b[0m\u001b[0;34m]\u001b[0m\u001b[0;34m[\u001b[0m\u001b[0;36m0\u001b[0m\u001b[0;34m]\u001b[0m\u001b[0;34m,\u001b[0m \u001b[0mcube\u001b[0m\u001b[0;34m[\u001b[0m\u001b[0mLEFT\u001b[0m\u001b[0;34m]\u001b[0m\u001b[0;34m[\u001b[0m\u001b[0;36m0\u001b[0m\u001b[0;34m]\u001b[0m \u001b[0;34m=\u001b[0m \u001b[0mcube_state\u001b[0m\u001b[0;34m[\u001b[0m\u001b[0mLEFT\u001b[0m\u001b[0;34m]\u001b[0m\u001b[0;34m[\u001b[0m\u001b[0;36m0\u001b[0m\u001b[0;34m]\u001b[0m\u001b[0;34m,\u001b[0m \u001b[0mcube_state\u001b[0m\u001b[0;34m[\u001b[0m\u001b[0mFRONT\u001b[0m\u001b[0;34m]\u001b[0m\u001b[0;34m[\u001b[0m\u001b[0;36m0\u001b[0m\u001b[0;34m]\u001b[0m\u001b[0;34m,\u001b[0m \u001b[0mcube_state\u001b[0m\u001b[0;34m[\u001b[0m\u001b[0mRIGHT\u001b[0m\u001b[0;34m]\u001b[0m\u001b[0;34m[\u001b[0m\u001b[0;36m0\u001b[0m\u001b[0;34m]\u001b[0m\u001b[0;34m,\u001b[0m \u001b[0mcube_state\u001b[0m\u001b[0;34m[\u001b[0m\u001b[0mBACK\u001b[0m\u001b[0;34m]\u001b[0m\u001b[0;34m[\u001b[0m\u001b[0;36m0\u001b[0m\u001b[0;34m]\u001b[0m\u001b[0;34m\u001b[0m\u001b[0m\n\u001b[1;32m     90\u001b[0m \u001b[0;34m\u001b[0m\u001b[0m\n",
      "\u001b[0;32m<ipython-input-175-aa06ad310606>\u001b[0m in \u001b[0;36m_rotate_clockwise_matrix\u001b[0;34m(matrix)\u001b[0m\n\u001b[1;32m    130\u001b[0m     \u001b[0;31m# numpy.rot90() Rotate an array by 90 degrees in the counter-clockwise\u001b[0m\u001b[0;34m\u001b[0m\u001b[0;34m\u001b[0m\u001b[0m\n\u001b[1;32m    131\u001b[0m     \u001b[0;31m# direction.\u001b[0m\u001b[0;34m\u001b[0m\u001b[0;34m\u001b[0m\u001b[0m\n\u001b[0;32m--> 132\u001b[0;31m     \u001b[0;32mreturn\u001b[0m \u001b[0mnp\u001b[0m\u001b[0;34m.\u001b[0m\u001b[0mrot90\u001b[0m\u001b[0;34m(\u001b[0m\u001b[0mnp\u001b[0m\u001b[0;34m.\u001b[0m\u001b[0marray\u001b[0m\u001b[0;34m(\u001b[0m\u001b[0mmatrix\u001b[0m\u001b[0;34m)\u001b[0m\u001b[0;34m,\u001b[0m \u001b[0;36m3\u001b[0m\u001b[0;34m)\u001b[0m\u001b[0;34m.\u001b[0m\u001b[0mtolist\u001b[0m\u001b[0;34m(\u001b[0m\u001b[0;34m)\u001b[0m\u001b[0;34m\u001b[0m\u001b[0m\n\u001b[0m\u001b[1;32m    133\u001b[0m \u001b[0;34m\u001b[0m\u001b[0m\n\u001b[1;32m    134\u001b[0m \u001b[0;34m\u001b[0m\u001b[0m\n",
      "\u001b[0;32m/Users/fernandojr/anaconda/lib/python2.7/site-packages/numpy/lib/twodim_base.pyc\u001b[0m in \u001b[0;36mrot90\u001b[0;34m(m, k)\u001b[0m\n\u001b[1;32m    173\u001b[0m \u001b[0;34m\u001b[0m\u001b[0m\n\u001b[1;32m    174\u001b[0m     \"\"\"\n\u001b[0;32m--> 175\u001b[0;31m     \u001b[0mm\u001b[0m \u001b[0;34m=\u001b[0m \u001b[0masanyarray\u001b[0m\u001b[0;34m(\u001b[0m\u001b[0mm\u001b[0m\u001b[0;34m)\u001b[0m\u001b[0;34m\u001b[0m\u001b[0m\n\u001b[0m\u001b[1;32m    176\u001b[0m     \u001b[0;32mif\u001b[0m \u001b[0mm\u001b[0m\u001b[0;34m.\u001b[0m\u001b[0mndim\u001b[0m \u001b[0;34m<\u001b[0m \u001b[0;36m2\u001b[0m\u001b[0;34m:\u001b[0m\u001b[0;34m\u001b[0m\u001b[0m\n\u001b[1;32m    177\u001b[0m         \u001b[0;32mraise\u001b[0m \u001b[0mValueError\u001b[0m\u001b[0;34m(\u001b[0m\u001b[0;34m\"Input must >= 2-d.\"\u001b[0m\u001b[0;34m)\u001b[0m\u001b[0;34m\u001b[0m\u001b[0m\n",
      "\u001b[0;31mKeyboardInterrupt\u001b[0m: "
     ]
    }
   ],
   "source": [
    "for x in range(0, int(math.pow(2,20))):\n",
    "    r_cube.cube =  move_rubiks_cube(r_cube, random.randint(0,11)).cube\n",
    "r_cube.cube"
   ]
  },
  {
   "cell_type": "code",
   "execution_count": null,
   "metadata": {
    "collapsed": false
   },
   "outputs": [],
   "source": [
    "initial_state = convert_in_vector(RubiksCube().cube)\n",
    "cube_x = convert_in_vector(r_cube.cube)\n",
    "aux = 0\n",
    "try:\n",
    "    for i in range(54):\n",
    "        aux = cube_x[i]\n",
    "        initial_state.remove(cube_x[i])\n",
    "except Exception, e:\n",
    "    print \"duplicado \", aux\n",
    "print \"OK\""
   ]
  },
  {
   "cell_type": "code",
   "execution_count": null,
   "metadata": {
    "collapsed": true
   },
   "outputs": [],
   "source": []
  }
 ],
 "metadata": {
  "kernelspec": {
   "display_name": "Python 2",
   "language": "python",
   "name": "python2"
  },
  "language_info": {
   "codemirror_mode": {
    "name": "ipython",
    "version": 2
   },
   "file_extension": ".py",
   "mimetype": "text/x-python",
   "name": "python",
   "nbconvert_exporter": "python",
   "pygments_lexer": "ipython2",
   "version": "2.7.9"
  }
 },
 "nbformat": 4,
 "nbformat_minor": 0
}
