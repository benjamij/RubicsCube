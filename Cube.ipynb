{
 "cells": [
  {
   "cell_type": "code",
   "execution_count": 1,
   "metadata": {
    "collapsed": false
   },
   "outputs": [],
   "source": [
    "#%load 'cube.py'\n",
    "from cube import rubiks_cube\n",
    "from cube import move_rubiks_cube"
   ]
  },
  {
   "cell_type": "code",
   "execution_count": 2,
   "metadata": {
    "collapsed": false
   },
   "outputs": [
    {
     "data": {
      "text/plain": [
       "[[['F1', 'F2', 'F3'], ['F4', 'F5', 'F6'], ['F7', 'F8', 'F9']],\n",
       " [['B1', 'B2', 'B3'], ['B4', 'B5', 'B6'], ['B7', 'B8', 'B9']],\n",
       " [['D1', 'D2', 'D3'], ['D4', 'D5', 'D6'], ['D7', 'D8', 'D9']],\n",
       " [['L1', 'L2', 'L3'], ['L4', 'L5', 'L6'], ['L7', 'L8', 'L9']],\n",
       " [['R1', 'R2', 'R3'], ['R4', 'R5', 'R6'], ['R7', 'R8', 'R9']],\n",
       " [['U1', 'U2', 'U3'], ['U4', 'U5', 'U6'], ['U7', 'U8', 'U9']]]"
      ]
     },
     "execution_count": 2,
     "metadata": {},
     "output_type": "execute_result"
    }
   ],
   "source": [
    "r_cube = rubiks_cube()  # In a initial_state \n",
    "r_cube"
   ]
  },
  {
   "cell_type": "code",
   "execution_count": 5,
   "metadata": {
    "collapsed": false
   },
   "outputs": [
    {
     "data": {
      "text/plain": [
       "[[['F7', 'F4', 'F1'], ['F8', 'F5', 'F2'], ['F9', 'F6', 'F3']],\n",
       " [['B1', 'B2', 'B3'], ['B4', 'B5', 'B6'], ['B7', 'B8', 'B9']],\n",
       " [['R7', 'R4', 'R1'], ['D4', 'D5', 'D6'], ['D7', 'D8', 'D9']],\n",
       " [['L1', 'L2', 'D1'], ['L4', 'L5', 'D2'], ['L7', 'L8', 'D3']],\n",
       " [['U7', 'R2', 'R3'], ['U8', 'R5', 'R6'], ['U9', 'R8', 'R9']],\n",
       " [['U1', 'U2', 'U3'], ['U4', 'U5', 'U6'], ['L9', 'L6', 'L3']]]"
      ]
     },
     "execution_count": 5,
     "metadata": {},
     "output_type": "execute_result"
    }
   ],
   "source": [
    "cube_f = move_rubiks_cube(r_cube, 0) # FRONT\n",
    "cube_f"
   ]
  },
  {
   "cell_type": "code",
   "execution_count": 6,
   "metadata": {
    "collapsed": false
   },
   "outputs": [
    {
     "data": {
      "text/plain": [
       "[[['F1', 'F2', 'F3'], ['F4', 'F5', 'F6'], ['F7', 'F8', 'F9']],\n",
       " [['B1', 'B2', 'B3'], ['B4', 'B5', 'B6'], ['B7', 'B8', 'B9']],\n",
       " [['D1', 'D2', 'D3'], ['D4', 'D5', 'D6'], ['D7', 'D8', 'D9']],\n",
       " [['L1', 'L2', 'L3'], ['L4', 'L5', 'L6'], ['L7', 'L8', 'L9']],\n",
       " [['R1', 'R2', 'R3'], ['R4', 'R5', 'R6'], ['R7', 'R8', 'R9']],\n",
       " [['U1', 'U2', 'U3'], ['U4', 'U5', 'U6'], ['U7', 'U8', 'U9']]]"
      ]
     },
     "execution_count": 6,
     "metadata": {},
     "output_type": "execute_result"
    }
   ],
   "source": [
    "cube_1 = move_rubiks_cube(cube_f, 6)\n",
    "cube_1"
   ]
  },
  {
   "cell_type": "code",
   "execution_count": 7,
   "metadata": {
    "collapsed": false
   },
   "outputs": [],
   "source": [
    "def check_face_movement(face):\n",
    "    # Basically it checks if has duplicate values in array\n",
    "    initial_state = convert_in_vector(rubiks_cube())\n",
    "    cube_x = convert_in_vector(move_rubiks_cube(rubiks_cube(), face))\n",
    "    aux = 0\n",
    "    try:\n",
    "        for i in range(54):\n",
    "            aux = cube_x[i]\n",
    "            initial_state.remove(cube_x[i])\n",
    "    except Exception, e:\n",
    "        print \"duplicado \", aux\n",
    "        return False\n",
    "    return True\n",
    "\n",
    "def convert_in_vector(cube):\n",
    "    # Converts the cube in a array\n",
    "    values = []\n",
    "    for face in cube:\n",
    "        for row in face:\n",
    "            for value in row:\n",
    "                values.append(value)\n",
    "    return values"
   ]
  },
  {
   "cell_type": "code",
   "execution_count": 8,
   "metadata": {
    "collapsed": false
   },
   "outputs": [
    {
     "data": {
      "text/plain": [
       "[True, True, True, True, True, True, True, True, True, True, True]"
      ]
     },
     "execution_count": 8,
     "metadata": {},
     "output_type": "execute_result"
    }
   ],
   "source": [
    "[check_face_movement(i) for i in range(11)]"
   ]
  },
  {
   "cell_type": "code",
   "execution_count": 9,
   "metadata": {
    "collapsed": false
   },
   "outputs": [
    {
     "name": "stdout",
     "output_type": "stream",
     "text": [
      "OK\n"
     ]
    }
   ],
   "source": [
    "initial_state = convert_in_vector(rubiks_cube())\n",
    "cube_x = convert_in_vector(r_cube)\n",
    "aux = 0\n",
    "try:\n",
    "    for i in range(54):\n",
    "        aux = cube_x[i]\n",
    "        initial_state.remove(cube_x[i])\n",
    "except Exception, e:\n",
    "    print \"duplicado \", aux\n",
    "print \"OK\""
   ]
  },
  {
   "cell_type": "code",
   "execution_count": null,
   "metadata": {
    "collapsed": true
   },
   "outputs": [],
   "source": []
  }
 ],
 "metadata": {
  "kernelspec": {
   "display_name": "Python 2",
   "language": "python",
   "name": "python2"
  },
  "language_info": {
   "codemirror_mode": {
    "name": "ipython",
    "version": 2
   },
   "file_extension": ".py",
   "mimetype": "text/x-python",
   "name": "python",
   "nbconvert_exporter": "python",
   "pygments_lexer": "ipython2",
   "version": "2.7.9"
  }
 },
 "nbformat": 4,
 "nbformat_minor": 0
}
