{
 "cells": [
  {
   "cell_type": "code",
   "execution_count": 54,
   "metadata": {
    "collapsed": false
   },
   "outputs": [],
   "source": [
    "# %load 'graph.py'\n",
    "import networkx as nx\n",
    "from sympy.combinatorics.permutations import Permutation\n",
    "from math import factorial\n",
    "import random\n",
    "\n",
    "from cube import RubiksCube\n",
    "from cube import move_rubiks_cube\n",
    "\n",
    "\n",
    "class Node(object):\n",
    "\n",
    "    def __init__(self, rubiks_cube, mov, parent_mov):\n",
    "        self.rubiks_cube = rubiks_cube\n",
    "        self.mov = mov\n",
    "        self.parent_mov = parent_mov\n",
    "\n",
    "\n",
    "class RCGraph(object):\n",
    "\n",
    "    def __init__(self):\n",
    "        self._graph = nx.Graph()\n",
    "        self.root = Node(RubiksCube(), -1, -1)\n",
    "        self._graph.add_node(self.root)\n",
    "\n",
    "    def generate_adjacents(self, node):\n",
    "        \"\"\"\n",
    "        Returns the node adjacent list\n",
    "        \"\"\"\n",
    "        nodes = self._get_possible_adjacents(node)\n",
    "        while(not self._is_validate_adjacents(nodes)):\n",
    "            nodes = self._get_possible_adjacents(node)\n",
    "        for n in nodes:\n",
    "            self._add_node(n, node)\n",
    "        return nodes\n",
    "\n",
    "    def _get_possible_adjacents(self, node):\n",
    "        \"\"\"\n",
    "        Returns a possible list of adjacents.\n",
    "        \"\"\"\n",
    "        # List of 12 or 11 random movements, one for each child\n",
    "        p_mov = node.parent_mov\n",
    "\n",
    "        # The permutation of 12 movements (0, 1, 2, ..., 11) to ensure that\n",
    "        # there is no equal adjacent nodes\n",
    "        moves = Permutation.unrank_nonlex(12, random.randint(1,\n",
    "                                          factorial(12))).list()\n",
    "\n",
    "        if p_mov > 0:\n",
    "            # Removes the movement which creates a adjacent equals to the\n",
    "            # node's parent\n",
    "            moves.remove(p_mov)\n",
    "\n",
    "        return [Node(move_rubiks_cube(node.rubiks_cube, m), m, node.mov) for m in moves]\n",
    "\n",
    "    def _is_validate_adjacents(self, nodes):\n",
    "        \"\"\"\n",
    "        Checks if the generated adjacents is valid,\n",
    "        the list of nodes will be valid if it none of its nodes already exist \\\n",
    "        in the graph.\n",
    "        \"\"\"\n",
    "        for rb in nodes:\n",
    "            if self._graph.has_node(rb):\n",
    "                return False\n",
    "        return True\n",
    "\n",
    "    def _add_node(self, node, parent=None):\n",
    "        \"\"\"\n",
    "        Adds a new node in the graph.\n",
    "        \"\"\"\n",
    "        self._graph.add_node(node)\n",
    "        if parent:\n",
    "            self._graph.add_edge(node, parent)\n",
    "        else:\n",
    "            self._graph.add_edge(node, self.root)\n"
   ]
  },
  {
   "cell_type": "code",
   "execution_count": 55,
   "metadata": {
    "collapsed": true
   },
   "outputs": [],
   "source": [
    "graph = RCGraph()"
   ]
  },
  {
   "cell_type": "code",
   "execution_count": 56,
   "metadata": {
    "collapsed": false
   },
   "outputs": [
    {
     "data": {
      "text/plain": [
       "[[['F1', 'F2', 'F3'], ['F4', 'F5', 'F6'], ['F7', 'F8', 'F9']],\n",
       " [['B1', 'B2', 'B3'], ['B4', 'B5', 'B6'], ['B7', 'B8', 'B9']],\n",
       " [['D1', 'D2', 'D3'], ['D4', 'D5', 'D6'], ['D7', 'D8', 'D9']],\n",
       " [['L1', 'L2', 'L3'], ['L4', 'L5', 'L6'], ['L7', 'L8', 'L9']],\n",
       " [['R1', 'R2', 'R3'], ['R4', 'R5', 'R6'], ['R7', 'R8', 'R9']],\n",
       " [['U1', 'U2', 'U3'], ['U4', 'U5', 'U6'], ['U7', 'U8', 'U9']]]"
      ]
     },
     "execution_count": 56,
     "metadata": {},
     "output_type": "execute_result"
    }
   ],
   "source": [
    "graph.root.rubiks_cube.cube"
   ]
  },
  {
   "cell_type": "code",
   "execution_count": 57,
   "metadata": {
    "collapsed": false
   },
   "outputs": [
    {
     "name": "stdout",
     "output_type": "stream",
     "text": [
      "[3, 0, 7, 5, 10, 8, 1, 9, 4, 2, 6, 11]\n"
     ]
    },
    {
     "data": {
      "text/plain": [
       "12"
      ]
     },
     "execution_count": 57,
     "metadata": {},
     "output_type": "execute_result"
    }
   ],
   "source": [
    "adjs = graph.generate_adjacents(graph.root)\n",
    "print [adj.mov for adj in adjs]\n",
    "len(adjs)"
   ]
  },
  {
   "cell_type": "code",
   "execution_count": 58,
   "metadata": {
    "collapsed": false
   },
   "outputs": [
    {
     "name": "stdout",
     "output_type": "stream",
     "text": [
      "3\n",
      "[1, 7, 5, 9, 10, 0, 11, 4, 8, 3, 6, 2]\n"
     ]
    },
    {
     "data": {
      "text/plain": [
       "12"
      ]
     },
     "execution_count": 58,
     "metadata": {},
     "output_type": "execute_result"
    }
   ],
   "source": [
    "adjs2 = graph.generate_adjacents(adjs[0])\n",
    "print adjs[0].mov\n",
    "print [adj.mov for adj in adjs2]\n",
    "len(adjs2)"
   ]
  },
  {
   "cell_type": "code",
   "execution_count": 59,
   "metadata": {
    "collapsed": false
   },
   "outputs": [
    {
     "name": "stdout",
     "output_type": "stream",
     "text": [
      "1\n",
      "[5, 6, 11, 9, 2, 7, 1, 8, 0, 10, 4]\n"
     ]
    },
    {
     "data": {
      "text/plain": [
       "11"
      ]
     },
     "execution_count": 59,
     "metadata": {},
     "output_type": "execute_result"
    }
   ],
   "source": [
    "adjs3 = graph.generate_adjacents(adjs2[0])\n",
    "print adjs2[0].mov\n",
    "print [adj.mov for adj in adjs3]\n",
    "len(adjs3)"
   ]
  },
  {
   "cell_type": "code",
   "execution_count": null,
   "metadata": {
    "collapsed": true
   },
   "outputs": [],
   "source": []
  }
 ],
 "metadata": {
  "kernelspec": {
   "display_name": "Python 2",
   "language": "python",
   "name": "python2"
  },
  "language_info": {
   "codemirror_mode": {
    "name": "ipython",
    "version": 2
   },
   "file_extension": ".py",
   "mimetype": "text/x-python",
   "name": "python",
   "nbconvert_exporter": "python",
   "pygments_lexer": "ipython2",
   "version": "2.7.9"
  }
 },
 "nbformat": 4,
 "nbformat_minor": 0
}
