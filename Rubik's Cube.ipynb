{
 "cells": [
  {
   "cell_type": "code",
   "execution_count": null,
   "metadata": {
    "collapsed": false
   },
   "outputs": [],
   "source": [
    "%pylab inline"
   ]
  },
  {
   "cell_type": "markdown",
   "metadata": {},
   "source": [
    "___\n",
    "##DFS\n",
    "###Tempo médio variando i"
   ]
  },
  {
   "cell_type": "code",
   "execution_count": null,
   "metadata": {
    "collapsed": false,
    "scrolled": true
   },
   "outputs": [],
   "source": [
    "import time\n",
    "import numpy as np\n",
    "import matplotlib.pyplot as plt\n",
    "from solver import Solver\n",
    "\n",
    "\n",
    "def dfs():\n",
    "    solver = Solver(3) \n",
    "    result = []\n",
    "    for i in range(10):\n",
    "        t = []\n",
    "        # Gets 100 samples\n",
    "        for j in range(100):\n",
    "            start = time.clock()\n",
    "            v = solver.dfs(i*10)\n",
    "            t.append(time.clock() - start)\n",
    "        # Calculates the median time\n",
    "        result.append(np.median(t))\n",
    "\n",
    "    # Returns a list of medians\n",
    "    return result\n",
    "\n",
    "\n",
    "x = dfs()\n",
    "plt.plot(x,'b--', x,'ro')\n",
    "plt.xlabel(u\"Iterações\")\n",
    "plt.ylabel(u\"Tempo (s)\")\n",
    "plt.show()"
   ]
  },
  {
   "cell_type": "markdown",
   "metadata": {},
   "source": [
    "### Consegue ir até o 2ˆ20?"
   ]
  },
  {
   "cell_type": "code",
   "execution_count": null,
   "metadata": {
    "collapsed": false
   },
   "outputs": [],
   "source": [
    "import time\n",
    "import math\n",
    "import numpy as np\n",
    "import matplotlib.pyplot as plt\n",
    "from solver import Solver\n",
    "\n",
    "\n",
    "def dfs():\n",
    "    solver = Solver(3) \n",
    "    result = []\n",
    "    for i in range(8):\n",
    "        t = []\n",
    "        # Gets 100 samples\n",
    "        for j in range(10):\n",
    "            start = time.clock()\n",
    "            v = solver.dfs(math.pow(2, i))\n",
    "            t.append(time.clock() - start)\n",
    "        # Calculates the median time\n",
    "        result.append(np.median(t))\n",
    "\n",
    "    # Returns a list of medians\n",
    "    return result\n",
    "\n",
    "\n",
    "x = dfs()\n",
    "plt.plot(x,'b--', x,'ro')\n",
    "plt.xlabel(u\"Iterações\")\n",
    "plt.ylabel(u\"Tempo (s)\")\n",
    "plt.show()"
   ]
  },
  {
   "cell_type": "markdown",
   "metadata": {},
   "source": [
    "___\n",
    "##Algoritmo\n",
    "###Tempo médio variando i"
   ]
  },
  {
   "cell_type": "code",
   "execution_count": null,
   "metadata": {
    "collapsed": false
   },
   "outputs": [],
   "source": [
    "import time\n",
    "import numpy as np\n",
    "import matplotlib.pyplot as plt\n",
    "from solver import Solver\n",
    "from cube import rubiks_cube\n",
    "\n",
    "TIME_LIMIT = 3  # 3 minutes\n",
    "\n",
    "def dfs_bfs():\n",
    "    solver = Solver(3)\n",
    "    result = [[], []] # Keeps the execution time + path length\n",
    "    bfs_target = rubiks_cube()\n",
    "    for i in range(9):\n",
    "        print \"i = \", i\n",
    "        start_i = time.clock()\n",
    "        t = []\n",
    "        l = []\n",
    "        for j in range(1):\n",
    "            start = time.clock()\n",
    "            v = solver.dfs(i)\n",
    "            u = solver.bfs(v, bfs_target)\n",
    "            p = solver.calculate_shortest_path(u) # Path from v to cube's initial state\n",
    "            t.append(time.clock() - start)\n",
    "            l.append(len(p))\n",
    "        result[0].append(np.median(t))\n",
    "        result[1].append(np.median(l))\n",
    "        print \"Tempo em minutos\", (time.clock() - start_i)/60\n",
    "    return result\n",
    "\n",
    "result_1 = dfs_bfs()\n",
    "plt.figure(1)\n",
    "# To plot the i X time\n",
    "plt.plot(result_1[0],'b--', result_1[0],'ro')\n",
    "plt.xlabel(u\"Valor de i\")\n",
    "plt.ylabel(u\"Tempo (s)\")\n",
    "\n",
    "# To plot the i X length\n",
    "plt.figure(2)\n",
    "plt.plot(result_1[1],'b--', result_1[1],'ro')\n",
    "plt.xlabel(u\"Tamanho do caminho\")\n",
    "plt.ylabel(u\"Tempo (s)\")\n",
    "plt.show()"
   ]
  },
  {
   "cell_type": "markdown",
   "metadata": {},
   "source": [
    "###Tempo médio variando 2ˆi"
   ]
  },
  {
   "cell_type": "code",
   "execution_count": null,
   "metadata": {
    "collapsed": false
   },
   "outputs": [],
   "source": [
    "import time\n",
    "import math\n",
    "import numpy as np\n",
    "import matplotlib.pyplot as plt\n",
    "from solver import Solver\n",
    "from cube import rubiks_cube\n",
    "\n",
    "TIME_LIMIT = 3  # 3 minutes\n",
    "\n",
    "def dfs_bfs():\n",
    "    solver = Solver()\n",
    "    result = [[], []] # Keeps the execution time + path length\n",
    "    bfs_target = rubiks_cube()\n",
    "    for i in range(0, 4):\n",
    "        t = []\n",
    "        l = []\n",
    "        for j in range(100):\n",
    "            start = time.clock()\n",
    "            v = solver.dfs(math.pow(2, i))\n",
    "            u = solver.bfs(v, bfs_target, TIME_LIMIT)\n",
    "            p = solver.calculate_shortest_path(u) # Path from v to cube's initial state\n",
    "            t.append(time.clock() - start)\n",
    "            l.append(len(p))\n",
    "        result[0].append(np.median(t))\n",
    "        result[1].append(np.median(l))\n",
    "    return result\n",
    "\n",
    "result = dfs_bfs()\n",
    "\n",
    "plt.figure(1)\n",
    "# To plot the i X time\n",
    "plt.plot(result[0],'b--', result[0],'ro')\n",
    "plt.xlabel(u\"Valor de i\")\n",
    "plt.ylabel(u\"Tempo (s)\")\n",
    "\n",
    "# To plot the i X length\n",
    "plt.figure(2)\n",
    "plt.plot(result[1],'b--', result[1],'ro')\n",
    "plt.xlabel(u\"Tamanho do caminho\")\n",
    "plt.ylabel(u\"Tempo (s)\")\n",
    "plt.show()"
   ]
  }
 ],
 "metadata": {
  "kernelspec": {
   "display_name": "Python 2",
   "language": "python",
   "name": "python2"
  },
  "language_info": {
   "codemirror_mode": {
    "name": "ipython",
    "version": 2
   },
   "file_extension": ".py",
   "mimetype": "text/x-python",
   "name": "python",
   "nbconvert_exporter": "python",
   "pygments_lexer": "ipython2",
   "version": "2.7.9"
  }
 },
 "nbformat": 4,
 "nbformat_minor": 0
}
